{
 "cells": [
  {
   "cell_type": "code",
   "execution_count": null,
   "metadata": {},
   "outputs": [],
   "source": [
    "def sieve(n):\n",
    "  int a=2 #lowest prime number\n",
    "  n=int(input('enter a number: '))#the range upto which prime number is to be printed\n",
    "  for s in range(a,n+1):\n",
    "    #2 is the lowest prime number\n",
    "     if n>2:\n",
    "        for x in range(a,s)\n",
    "        #numbers that are not prime\n",
    "          if(s%2)==0:\n",
    "            break\n",
    "          \n",
    "          else:\n",
    "                  print(n)\n",
    "primeL =[] \n",
    "n=primeL\n",
    "def L():\n",
    "    pop.primeL()\n",
    "\n",
    "\n",
    "                    \n",
    "                    \n",
    "                    "
   ]
  }
 ],
 "metadata": {
  "kernelspec": {
   "display_name": "Python 3",
   "language": "python",
   "name": "python3"
  },
  "language_info": {
   "codemirror_mode": {
    "name": "ipython",
    "version": 3
   },
   "file_extension": ".py",
   "mimetype": "text/x-python",
   "name": "python",
   "nbconvert_exporter": "python",
   "pygments_lexer": "ipython3",
   "version": "3.8.3"
  }
 },
 "nbformat": 4,
 "nbformat_minor": 4
}
