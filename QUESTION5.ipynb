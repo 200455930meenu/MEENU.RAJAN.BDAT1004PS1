{
 "cells": [
  {
   "cell_type": "code",
   "execution_count": 5,
   "metadata": {},
   "outputs": [
    {
     "ename": "IndentationError",
     "evalue": "unexpected indent (<ipython-input-5-720f8603588b>, line 6)",
     "output_type": "error",
     "traceback": [
      "\u001b[1;36m  File \u001b[1;32m\"<ipython-input-5-720f8603588b>\"\u001b[1;36m, line \u001b[1;32m6\u001b[0m\n\u001b[1;33m    print('There is'+' '+a+' '+'patients of blood type A')\u001b[0m\n\u001b[1;37m    ^\u001b[0m\n\u001b[1;31mIndentationError\u001b[0m\u001b[1;31m:\u001b[0m unexpected indent\n"
     ]
    }
   ],
   "source": [
    "def bloodCount():\n",
    "     f1=open('bloodtype.txt','r+')\n",
    "     for i in range (f1): \n",
    "        \n",
    "       a= f1.count('A')\n",
    "          print('There is'+' '+a+' '+'patients of blood type A')\n",
    "          return a\n",
    "       b= f1.count('B')\n",
    "          print('There is'+' '+b+' '+'patients of blood type B')\n",
    "          return b\n",
    "       c= f1.count('AB')\n",
    "          print('There is'+' '+c+' '+'patients of blood type AB')\n",
    "          return c\n",
    "       d= f1.count('O')\n",
    "          print('There is'+' '+d+' '+'patients of blood type O')\n",
    "          return d\n",
    "       e= f1.count('OO')\n",
    "          print('There is'+' '+e+' '+'patients of blood type OO')\n",
    "          return e         \n",
    "\n",
    "        "
   ]
  },
  {
   "cell_type": "code",
   "execution_count": null,
   "metadata": {},
   "outputs": [],
   "source": []
  }
 ],
 "metadata": {
  "kernelspec": {
   "display_name": "Python 3",
   "language": "python",
   "name": "python3"
  },
  "language_info": {
   "codemirror_mode": {
    "name": "ipython",
    "version": 3
   },
   "file_extension": ".py",
   "mimetype": "text/x-python",
   "name": "python",
   "nbconvert_exporter": "python",
   "pygments_lexer": "ipython3",
   "version": "3.8.3"
  }
 },
 "nbformat": 4,
 "nbformat_minor": 4
}
