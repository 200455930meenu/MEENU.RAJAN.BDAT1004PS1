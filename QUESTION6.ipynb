{
 "cells": [
  {
   "cell_type": "code",
   "execution_count": 5,
   "metadata": {},
   "outputs": [],
   "source": [
    "def curncov(yen,euro):\n",
    "    \n",
    " f1=open ('currencies.txt','r+')\n",
    "\n",
    " yen  =input('enter the amount: '+'JPY')\n",
    " a=yen*0.01241401\n",
    " return a\n",
    "\n",
    " euro =input('enter the amount: '+'EURO')\n",
    " b=euro*1.2296544 \n",
    " return b\n",
    "    \n"
   ]
  },
  {
   "cell_type": "code",
   "execution_count": null,
   "metadata": {},
   "outputs": [],
   "source": []
  }
 ],
 "metadata": {
  "kernelspec": {
   "display_name": "Python 3",
   "language": "python",
   "name": "python3"
  },
  "language_info": {
   "codemirror_mode": {
    "name": "ipython",
    "version": 3
   },
   "file_extension": ".py",
   "mimetype": "text/x-python",
   "name": "python",
   "nbconvert_exporter": "python",
   "pygments_lexer": "ipython3",
   "version": "3.8.3"
  }
 },
 "nbformat": 4,
 "nbformat_minor": 4
}
