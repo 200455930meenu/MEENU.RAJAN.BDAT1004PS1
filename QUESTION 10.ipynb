{
 "cells": [
  {
   "cell_type": "code",
   "execution_count": 7,
   "metadata": {},
   "outputs": [
    {
     "ename": "IndentationError",
     "evalue": "unexpected indent (<ipython-input-7-57d796602b7e>, line 7)",
     "output_type": "error",
     "traceback": [
      "\u001b[1;36m  File \u001b[1;32m\"<ipython-input-7-57d796602b7e>\"\u001b[1;36m, line \u001b[1;32m7\u001b[0m\n\u001b[1;33m    s =(a+b+c)/2\u001b[0m\n\u001b[1;37m    ^\u001b[0m\n\u001b[1;31mIndentationError\u001b[0m\u001b[1;31m:\u001b[0m unexpected indent\n"
     ]
    }
   ],
   "source": [
    "def triangleArea(a,b,c):\n",
    "   import math   \n",
    "   a=int (input('enter a number: '))\n",
    "   b=int (input('enter a number '))\n",
    "   c=int (input('enter a number'))\n",
    "    \n",
    "    s =(a+b+c)/2\n",
    "    int Area = math.sqrt(s*(s-a)*(s-b)*(s-c))\n",
    "    return Area\n",
    "    \n",
    " "
   ]
  },
  {
   "cell_type": "code",
   "execution_count": null,
   "metadata": {},
   "outputs": [],
   "source": []
  }
 ],
 "metadata": {
  "kernelspec": {
   "display_name": "Python 3",
   "language": "python",
   "name": "python3"
  },
  "language_info": {
   "codemirror_mode": {
    "name": "ipython",
    "version": 3
   },
   "file_extension": ".py",
   "mimetype": "text/x-python",
   "name": "python",
   "nbconvert_exporter": "python",
   "pygments_lexer": "ipython3",
   "version": "3.8.3"
  }
 },
 "nbformat": 4,
 "nbformat_minor": 4
}
